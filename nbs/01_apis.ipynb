{
 "cells": [
  {
   "cell_type": "code",
   "execution_count": 3,
   "metadata": {},
   "outputs": [],
   "source": [
    "from fasthtml.common import *\n",
    "from monsterui.all import *"
   ]
  },
  {
   "cell_type": "code",
   "execution_count": 4,
   "metadata": {},
   "outputs": [],
   "source": [
    "import torch"
   ]
  },
  {
   "cell_type": "code",
   "execution_count": 5,
   "metadata": {},
   "outputs": [
    {
     "name": "stdout",
     "output_type": "stream",
     "text": [
      "import error: No module named 'triton'\n"
     ]
    },
    {
     "ename": "ImportError",
     "evalue": "cannot import name 'apply_dynamic_quant' from 'torchao.quantization' (/Users/cck/projects/mirror-ai/.venv/lib/python3.12/site-packages/torchao/quantization/__init__.py)",
     "output_type": "error",
     "traceback": [
      "\u001b[31m---------------------------------------------------------------------------\u001b[39m",
      "\u001b[31mImportError\u001b[39m                               Traceback (most recent call last)",
      "\u001b[36mCell\u001b[39m\u001b[36m \u001b[39m\u001b[32mIn[5]\u001b[39m\u001b[32m, line 1\u001b[39m\n\u001b[32m----> \u001b[39m\u001b[32m1\u001b[39m \u001b[38;5;28;01mfrom\u001b[39;00m\u001b[38;5;250m \u001b[39m\u001b[34;01mtorchao\u001b[39;00m\u001b[34;01m.\u001b[39;00m\u001b[34;01mquantization\u001b[39;00m\u001b[38;5;250m \u001b[39m\u001b[38;5;28;01mimport\u001b[39;00m apply_dynamic_quant\n",
      "\u001b[31mImportError\u001b[39m: cannot import name 'apply_dynamic_quant' from 'torchao.quantization' (/Users/cck/projects/mirror-ai/.venv/lib/python3.12/site-packages/torchao/quantization/__init__.py)"
     ]
    }
   ],
   "source": [
    "from torchao.quantization import apply_dynamic_quant"
   ]
  },
  {
   "cell_type": "code",
   "execution_count": 2,
   "metadata": {},
   "outputs": [
    {
     "name": "stdout",
     "output_type": "stream",
     "text": [
      "\u001b[31mSignature:\u001b[39m sse_message(elm, event=\u001b[33m'message'\u001b[39m)\n",
      "\u001b[31mSource:\u001b[39m   \n",
      "\u001b[38;5;28;01mdef\u001b[39;00m sse_message(elm, event=\u001b[33m'message'\u001b[39m):\n",
      "    \u001b[33m\"Convert element `elm` into a format suitable for SSE streaming\"\u001b[39m\n",
      "    data = \u001b[33m'\\n'\u001b[39m.join(f'data: {o}' \u001b[38;5;28;01mfor\u001b[39;00m o \u001b[38;5;28;01min\u001b[39;00m to_xml(elm).splitlines())\n",
      "    \u001b[38;5;28;01mreturn\u001b[39;00m f'event: {event}\\n{data}\\n\\n'\n",
      "\u001b[31mFile:\u001b[39m      ~/projects/mirror-ai/.venv/lib/python3.12/site-packages/fasthtml/components.py\n",
      "\u001b[31mType:\u001b[39m      function"
     ]
    }
   ],
   "source": [
    "sse_message??"
   ]
  },
  {
   "cell_type": "code",
   "execution_count": 8,
   "metadata": {},
   "outputs": [],
   "source": [
    "shutdown_event = signal_shutdown()"
   ]
  },
  {
   "cell_type": "code",
   "execution_count": 9,
   "metadata": {},
   "outputs": [
    {
     "data": {
      "text/plain": [
       "<asyncio.locks.Event object at 0x10ce9d340 [unset]>"
      ]
     },
     "execution_count": 9,
     "metadata": {},
     "output_type": "execute_result"
    }
   ],
   "source": [
    "shutdown_event"
   ]
  }
 ],
 "metadata": {
  "kernelspec": {
   "display_name": ".venv",
   "language": "python",
   "name": "python3"
  },
  "language_info": {
   "codemirror_mode": {
    "name": "ipython",
    "version": 3
   },
   "file_extension": ".py",
   "mimetype": "text/x-python",
   "name": "python",
   "nbconvert_exporter": "python",
   "pygments_lexer": "ipython3",
   "version": "3.12.6"
  }
 },
 "nbformat": 4,
 "nbformat_minor": 2
}
