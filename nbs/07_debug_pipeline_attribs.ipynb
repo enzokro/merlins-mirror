{
 "cells": [
  {
   "cell_type": "code",
   "execution_count": 1,
   "metadata": {},
   "outputs": [],
   "source": [
    "%load_ext autoreload\n",
    "%autoreload 2"
   ]
  },
  {
   "cell_type": "code",
   "execution_count": null,
   "metadata": {},
   "outputs": [],
   "source": [
    "import os, sys\n",
    "sys.path.insert(0, '/home/chris/merlins-mirror')\n",
    "from dotenv import load_dotenv\n",
    "load_dotenv()"
   ]
  },
  {
   "cell_type": "code",
   "execution_count": null,
   "metadata": {},
   "outputs": [],
   "source": [
    "from mirror_ai.pipeline_dream_pcm_sd15 import ImagePipeline\n",
    "from mirror_ai.compile.go_compile import load_optimized_pipeline"
   ]
  },
  {
   "cell_type": "code",
   "execution_count": null,
   "metadata": {},
   "outputs": [],
   "source": [
    "# set up the image transformer and the webcam stream\n",
    "image_pipeline = ImagePipeline()\n",
    "pipeline = image_pipeline.load(\"ddim\")\n",
    "pipeline;"
   ]
  },
  {
   "cell_type": "code",
   "execution_count": null,
   "metadata": {},
   "outputs": [],
   "source": [
    "engine_dir = os.getenv(\"COMPILED_MODELS_DIR\"); engine_dir\n"
   ]
  },
  {
   "cell_type": "code",
   "execution_count": 7,
   "metadata": {},
   "outputs": [],
   "source": [
    "\n",
    "# name of the compiled pipeline\n",
    "compiled_name = \"dream_pcm_sd15\"\n"
   ]
  },
  {
   "cell_type": "code",
   "execution_count": null,
   "metadata": {},
   "outputs": [],
   "source": [
    "\n",
    "\n",
    "# print(f\"Compiling {ImagePipeline} as {compiled_name} in {engine_dir}\")\n",
    "# pipeline = optimize_controlnet_pipeline_with_tensorrt(pipeline, name=compiled_name, engine_dir=engine_dir)\n",
    "\n",
    "# NOTE: name and engine_dir must be set to the same values as the compile_pipeline call above\n",
    "optimized_pipeline = load_optimized_pipeline(pipeline=pipeline, name=compiled_name, engine_dir=engine_dir)"
   ]
  },
  {
   "cell_type": "code",
   "execution_count": 8,
   "metadata": {},
   "outputs": [],
   "source": [
    "from polygraphy.backend.trt import util as trt_util"
   ]
  },
  {
   "cell_type": "code",
   "execution_count": null,
   "metadata": {},
   "outputs": [],
   "source": [
    "trt_util.get_bindings_per_profile??"
   ]
  }
 ],
 "metadata": {
  "kernelspec": {
   "display_name": ".venv",
   "language": "python",
   "name": "python3"
  },
  "language_info": {
   "codemirror_mode": {
    "name": "ipython",
    "version": 3
   },
   "file_extension": ".py",
   "mimetype": "text/x-python",
   "name": "python",
   "nbconvert_exporter": "python",
   "pygments_lexer": "ipython3",
   "version": "3.12.3"
  }
 },
 "nbformat": 4,
 "nbformat_minor": 2
}
